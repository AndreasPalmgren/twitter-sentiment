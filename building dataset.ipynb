{
 "cells": [
  {
   "cell_type": "markdown",
   "id": "skilled-correction",
   "metadata": {},
   "source": [
    "# Following code used for building dataset"
   ]
  },
  {
   "cell_type": "code",
   "execution_count": null,
   "id": "fifty-mediterranean",
   "metadata": {},
   "outputs": [],
   "source": [
    "import tweepy as tw\n",
    "import requests\n",
    "import pandas as pd\n",
    "\n",
    "access_token = \"WT90c6EeFymch8alktIS6Czjo\"\n",
    "access_token_secret = \"rapSxOMSspBkqyUSkQ7QsCqoBSl00eJn0lqM44MypligPrSLI3 \"\n",
    "bearer_token = \"AAAAAAAAAAAAAAAAAAAAAPQdbAEAAAAAip4dX3hfODMZcwy%2F4D9NGsqQlQY%3DhlWENfRydVk69RbpqLE4vNXku5nzgoVeSfYMekfHfDm6pM0LtN \"\n",
    "\n",
    "client = tw.Client( bearer_token=bearer_token,\n",
    "                        access_token=access_token, \n",
    "                        access_token_secret=access_token_secret, \n",
    "                        return_type = requests.Response,\n",
    "                        wait_on_rate_limit=True)"
   ]
  },
  {
   "cell_type": "code",
   "execution_count": 2,
   "id": "higher-storage",
   "metadata": {},
   "outputs": [],
   "source": [
    "tweets = client.search_recent_tweets(query=f\"#AAPL -is:retweet -is:reply lang:en\", \n",
    "                                     start_time=\"2022-05-01T00:00:00Z\", \n",
    "                                     end_time=\"2022-05-01T23:59:00Z\",\n",
    "                                     max_results=10)"
   ]
  },
  {
   "cell_type": "code",
   "execution_count": 1,
   "id": "prostate-creativity",
   "metadata": {},
   "outputs": [],
   "source": [
    "from twitter_access import access_twitter\n",
    "client = access_twitter()"
   ]
  },
  {
   "cell_type": "code",
   "execution_count": 3,
   "id": "unlimited-runner",
   "metadata": {},
   "outputs": [
    {
     "data": {
      "text/plain": [
       "{'data': [{'id': '1520911591494995970',\n",
       "   'text': '#spy $SPY #SPX $SPX $QQQ #QQQ #ES $ES #NQ $NQ $NDX #NDX $VIX #VIX $AAPL #AAPL $MSFT #MSFT $GOOGL #GOOGL $AMZN #AMZN $FB #FB  sold some /NQ 13500C expiring this Friday for 63.5 https://t.co/4cLpR3jD0k'},\n",
       "  {'id': '1520911338821890049',\n",
       "   'text': '#AAPL\\xa0sturdy shares\\xa0during a gloomy 2022 #CRE\\xa0Apple outperforms GOOGL, MSFT, S&amp;P 500 – all by wide margins. Proves just how highly investors think of company.\\xa0Apple shares have displayed a high blend of valuable defense compared to Microsoft and Alphabet https://t.co/MrqvAc0fEN'},\n",
       "  {'id': '1520903040726876160',\n",
       "   'text': '$AAPL #aapl PyraWeb 234 sine waves.  Price at the center, will be interesting if it follows sine channel down, or starts breaking through.  Is tech at tipping point?  Last two candles indicating some downward pressure. https://t.co/27NO6G0ELX'},\n",
       "  {'id': '1520893829494104064',\n",
       "   'text': '#spy $SPY #SPX $SPX $QQQ #QQQ #ES $ES #NQ $NQ $NDX #NDX $VIX #VIX $AAPL #AAPL $MSFT #MSFT $GOOGL #GOOGL $AMZN #AMZN $FB #FB \\n/NQ long here. 12834. Tight stop'},\n",
       "  {'id': '1520887366558568448',\n",
       "   'text': 'AAPL  - #AAPL chart on @TradingView https://t.co/W3eH3c2Gli'},\n",
       "  {'id': '1520862324415991812',\n",
       "   'text': '$AAPL seeing sustained chatter on 4chan over the last few days\\r\\rVia https://t.co/DoXFBxbWjw\\r\\r#aapl    #4chan  #daytrading https://t.co/pIUvoN44y6'},\n",
       "  {'id': '1520853255915556864',\n",
       "   'text': 'Your belief in the products should always match your investment decisions. #investing #crypto #AAPL #Doge https://t.co/HEhFTvI3c5'},\n",
       "  {'id': '1520849800471715848',\n",
       "   'text': 'I don\\'t understand the concept of being \"all in or primarily in cash\" #googl #aapl https://t.co/x5bsovRxuO'},\n",
       "  {'id': '1520841562292461578',\n",
       "   'text': '#Apple #AAPL monthly\\n\\nIt looks so ugly that I feel when it crashes, the whole #crypto world is going to go under..\\n\\n#BTCUSDT #btc #NASDAQ #StockMarket #stocks https://t.co/KrNv1SNiD8'},\n",
       "  {'id': '1520821946505596928',\n",
       "   'text': '$AAPL was the 10th most mentioned on 4chan over the last 7 days\\r\\rVia https://t.co/DoXFBxtxb4\\r\\r#aapl    #4chan  #investing https://t.co/ujt0GUJKMs'}],\n",
       " 'meta': {'newest_id': '1520911591494995970',\n",
       "  'oldest_id': '1520821946505596928',\n",
       "  'result_count': 10,\n",
       "  'next_token': 'b26v89c19zqg8o3fpywksvde0evo859euz5d7ap5vn4al'}}"
      ]
     },
     "execution_count": 3,
     "metadata": {},
     "output_type": "execute_result"
    }
   ],
   "source": [
    "tweets_dict = tweets.json()\n",
    "tweets_dict"
   ]
  },
  {
   "cell_type": "code",
   "execution_count": null,
   "id": "bigger-international",
   "metadata": {},
   "outputs": [],
   "source": [
    "get_table(tweets, \"AAPL\")"
   ]
  },
  {
   "cell_type": "code",
   "execution_count": null,
   "id": "electrical-there",
   "metadata": {},
   "outputs": [],
   "source": [
    "sp500 = pd.read_html('https://en.wikipedia.org/wiki/List_of_S%26P_500_companies')\n",
    "sp500 = sp500[0]\n",
    "sp500"
   ]
  },
  {
   "cell_type": "code",
   "execution_count": null,
   "id": "alert-somerset",
   "metadata": {},
   "outputs": [],
   "source": [
    "def get_table(tweets, symbol, date):\n",
    "    # Save data as dictionary\n",
    "    tweets_dict = tweets.json() \n",
    "    \n",
    "    try:\n",
    "        # Extract \"data\" value from dictionary\n",
    "        tweets_data = tweets_dict['data'] \n",
    "\n",
    "        # Transform to pandas Dataframe\n",
    "        df = pd.json_normalize(tweets_data)\n",
    "        \n",
    "        df[\"symbol\"] = symbol\n",
    "        df[\"date\"] = date\n",
    "        \n",
    "        return df\n",
    "    except:\n",
    "        pass"
   ]
  },
  {
   "cell_type": "code",
   "execution_count": null,
   "id": "together-rachel",
   "metadata": {},
   "outputs": [],
   "source": [
    "stocks = [\"AAPL\", \"ABBV\", \"ZTS\"]"
   ]
  },
  {
   "cell_type": "code",
   "execution_count": null,
   "id": "patient-belgium",
   "metadata": {},
   "outputs": [],
   "source": [
    "df = pd.DataFrame(columns=[\"symbol\", \"id\", \"text\"])\n",
    "\n",
    "date = \"2022-05-02\"\n",
    "for stock in stocks:\n",
    "        query = f\"#{stock} -is:retweet -is:reply lang:en\"\n",
    "        \n",
    "        tweets = client.search_recent_tweets(query=query, \n",
    "                                     start_time=f\"{date}T00:00:00Z\", \n",
    "                                     end_time=f\"{date}T23:59:00Z\",\n",
    "                                     max_results=10)\n",
    "        \n",
    "        df = pd.concat([df, get_table(tweets, stock, date)], ignore_index=True)"
   ]
  },
  {
   "cell_type": "markdown",
   "id": "auburn-cherry",
   "metadata": {},
   "source": [
    "Limited to 300 requests / 15 mins"
   ]
  },
  {
   "cell_type": "code",
   "execution_count": null,
   "id": "fitting-controversy",
   "metadata": {},
   "outputs": [],
   "source": [
    "df"
   ]
  },
  {
   "cell_type": "code",
   "execution_count": null,
   "id": "continued-restriction",
   "metadata": {},
   "outputs": [],
   "source": [
    "df[df[\"symbol\"] == \"AAPL\"]"
   ]
  },
  {
   "cell_type": "code",
   "execution_count": null,
   "id": "human-refrigerator",
   "metadata": {},
   "outputs": [],
   "source": [
    "import csv"
   ]
  },
  {
   "cell_type": "code",
   "execution_count": null,
   "id": "golden-spare",
   "metadata": {},
   "outputs": [],
   "source": [
    "df.to_csv('twitter_dataset.csv', index=False)"
   ]
  },
  {
   "cell_type": "code",
   "execution_count": null,
   "id": "confirmed-microwave",
   "metadata": {},
   "outputs": [],
   "source": [
    "from datetime import date\n",
    "\n",
    "today = date.today()\n",
    "print(\"Today's date:\", today)"
   ]
  },
  {
   "cell_type": "code",
   "execution_count": null,
   "id": "lonely-championship",
   "metadata": {},
   "outputs": [],
   "source": [
    "import csv\n",
    "with open('twitter_access.csv', newline=',') as csvfile:\n",
    "...     spamreader = csv.reader(csvfile, delimiter=' ', quotechar='|')\n",
    "...     for row in spamreader:\n",
    "...         print(', '.join(row))"
   ]
  }
 ],
 "metadata": {
  "kernelspec": {
   "display_name": "nlp_kernel",
   "language": "python",
   "name": "nlp_kernel"
  },
  "language_info": {
   "codemirror_mode": {
    "name": "ipython",
    "version": 3
   },
   "file_extension": ".py",
   "mimetype": "text/x-python",
   "name": "python",
   "nbconvert_exporter": "python",
   "pygments_lexer": "ipython3",
   "version": "3.8.5"
  }
 },
 "nbformat": 4,
 "nbformat_minor": 5
}
