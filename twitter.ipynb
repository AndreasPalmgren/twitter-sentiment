{
 "cells": [
  {
   "cell_type": "code",
   "execution_count": 1,
   "id": "computational-encounter",
   "metadata": {},
   "outputs": [],
   "source": [
    "import pandas as pd\n",
    "\n",
    "payload = pd.read_html('https://en.wikipedia.org/wiki/List_of_S%26P_500_companies')\n",
    "df = payload[0]"
   ]
  },
  {
   "cell_type": "code",
   "execution_count": 2,
   "id": "modular-composition",
   "metadata": {},
   "outputs": [
    {
     "data": {
      "text/html": [
       "<div>\n",
       "<style scoped>\n",
       "    .dataframe tbody tr th:only-of-type {\n",
       "        vertical-align: middle;\n",
       "    }\n",
       "\n",
       "    .dataframe tbody tr th {\n",
       "        vertical-align: top;\n",
       "    }\n",
       "\n",
       "    .dataframe thead th {\n",
       "        text-align: right;\n",
       "    }\n",
       "</style>\n",
       "<table border=\"1\" class=\"dataframe\">\n",
       "  <thead>\n",
       "    <tr style=\"text-align: right;\">\n",
       "      <th></th>\n",
       "      <th>Symbol</th>\n",
       "      <th>Security</th>\n",
       "      <th>SEC filings</th>\n",
       "      <th>GICS Sector</th>\n",
       "      <th>GICS Sub-Industry</th>\n",
       "      <th>Headquarters Location</th>\n",
       "      <th>Date first added</th>\n",
       "      <th>CIK</th>\n",
       "      <th>Founded</th>\n",
       "    </tr>\n",
       "  </thead>\n",
       "  <tbody>\n",
       "    <tr>\n",
       "      <th>0</th>\n",
       "      <td>MMM</td>\n",
       "      <td>3M</td>\n",
       "      <td>reports</td>\n",
       "      <td>Industrials</td>\n",
       "      <td>Industrial Conglomerates</td>\n",
       "      <td>Saint Paul, Minnesota</td>\n",
       "      <td>1976-08-09</td>\n",
       "      <td>66740</td>\n",
       "      <td>1902</td>\n",
       "    </tr>\n",
       "    <tr>\n",
       "      <th>1</th>\n",
       "      <td>AOS</td>\n",
       "      <td>A. O. Smith</td>\n",
       "      <td>reports</td>\n",
       "      <td>Industrials</td>\n",
       "      <td>Building Products</td>\n",
       "      <td>Milwaukee, Wisconsin</td>\n",
       "      <td>2017-07-26</td>\n",
       "      <td>91142</td>\n",
       "      <td>1916</td>\n",
       "    </tr>\n",
       "    <tr>\n",
       "      <th>2</th>\n",
       "      <td>ABT</td>\n",
       "      <td>Abbott</td>\n",
       "      <td>reports</td>\n",
       "      <td>Health Care</td>\n",
       "      <td>Health Care Equipment</td>\n",
       "      <td>North Chicago, Illinois</td>\n",
       "      <td>1964-03-31</td>\n",
       "      <td>1800</td>\n",
       "      <td>1888</td>\n",
       "    </tr>\n",
       "    <tr>\n",
       "      <th>3</th>\n",
       "      <td>ABBV</td>\n",
       "      <td>AbbVie</td>\n",
       "      <td>reports</td>\n",
       "      <td>Health Care</td>\n",
       "      <td>Pharmaceuticals</td>\n",
       "      <td>North Chicago, Illinois</td>\n",
       "      <td>2012-12-31</td>\n",
       "      <td>1551152</td>\n",
       "      <td>2013 (1888)</td>\n",
       "    </tr>\n",
       "    <tr>\n",
       "      <th>4</th>\n",
       "      <td>ABMD</td>\n",
       "      <td>Abiomed</td>\n",
       "      <td>reports</td>\n",
       "      <td>Health Care</td>\n",
       "      <td>Health Care Equipment</td>\n",
       "      <td>Danvers, Massachusetts</td>\n",
       "      <td>2018-05-31</td>\n",
       "      <td>815094</td>\n",
       "      <td>1981</td>\n",
       "    </tr>\n",
       "  </tbody>\n",
       "</table>\n",
       "</div>"
      ],
      "text/plain": [
       "  Symbol     Security SEC filings  GICS Sector         GICS Sub-Industry  \\\n",
       "0    MMM           3M     reports  Industrials  Industrial Conglomerates   \n",
       "1    AOS  A. O. Smith     reports  Industrials         Building Products   \n",
       "2    ABT       Abbott     reports  Health Care     Health Care Equipment   \n",
       "3   ABBV       AbbVie     reports  Health Care           Pharmaceuticals   \n",
       "4   ABMD      Abiomed     reports  Health Care     Health Care Equipment   \n",
       "\n",
       "     Headquarters Location Date first added      CIK      Founded  \n",
       "0    Saint Paul, Minnesota       1976-08-09    66740         1902  \n",
       "1     Milwaukee, Wisconsin       2017-07-26    91142         1916  \n",
       "2  North Chicago, Illinois       1964-03-31     1800         1888  \n",
       "3  North Chicago, Illinois       2012-12-31  1551152  2013 (1888)  \n",
       "4   Danvers, Massachusetts       2018-05-31   815094         1981  "
      ]
     },
     "execution_count": 2,
     "metadata": {},
     "output_type": "execute_result"
    }
   ],
   "source": [
    "df.head()"
   ]
  },
  {
   "cell_type": "code",
   "execution_count": 3,
   "id": "mediterranean-needle",
   "metadata": {},
   "outputs": [
    {
     "data": {
      "text/plain": [
       "0       MMM\n",
       "1       AOS\n",
       "2       ABT\n",
       "3      ABBV\n",
       "4      ABMD\n",
       "       ... \n",
       "500     YUM\n",
       "501    ZBRA\n",
       "502     ZBH\n",
       "503    ZION\n",
       "504     ZTS\n",
       "Name: Symbol, Length: 505, dtype: object"
      ]
     },
     "execution_count": 3,
     "metadata": {},
     "output_type": "execute_result"
    }
   ],
   "source": [
    "df[\"Symbol\"]"
   ]
  },
  {
   "cell_type": "code",
   "execution_count": 4,
   "id": "about-things",
   "metadata": {},
   "outputs": [
    {
     "data": {
      "text/html": [
       "<div>\n",
       "<style scoped>\n",
       "    .dataframe tbody tr th:only-of-type {\n",
       "        vertical-align: middle;\n",
       "    }\n",
       "\n",
       "    .dataframe tbody tr th {\n",
       "        vertical-align: top;\n",
       "    }\n",
       "\n",
       "    .dataframe thead th {\n",
       "        text-align: right;\n",
       "    }\n",
       "</style>\n",
       "<table border=\"1\" class=\"dataframe\">\n",
       "  <thead>\n",
       "    <tr style=\"text-align: right;\">\n",
       "      <th></th>\n",
       "      <th>Rank</th>\n",
       "      <th>Name</th>\n",
       "      <th>Symbol</th>\n",
       "      <th>marketcap</th>\n",
       "      <th>price (USD)</th>\n",
       "      <th>country</th>\n",
       "    </tr>\n",
       "  </thead>\n",
       "  <tbody>\n",
       "    <tr>\n",
       "      <th>0</th>\n",
       "      <td>1</td>\n",
       "      <td>Apple</td>\n",
       "      <td>AAPL</td>\n",
       "      <td>2896125755392</td>\n",
       "      <td>174.31</td>\n",
       "      <td>United States</td>\n",
       "    </tr>\n",
       "    <tr>\n",
       "      <th>1</th>\n",
       "      <td>2</td>\n",
       "      <td>Microsoft</td>\n",
       "      <td>MSFT</td>\n",
       "      <td>2361437716480</td>\n",
       "      <td>309.42</td>\n",
       "      <td>United States</td>\n",
       "    </tr>\n",
       "    <tr>\n",
       "      <th>2</th>\n",
       "      <td>3</td>\n",
       "      <td>Alphabet (Google)</td>\n",
       "      <td>GOOG</td>\n",
       "      <td>1894950502400</td>\n",
       "      <td>2814.00</td>\n",
       "      <td>United States</td>\n",
       "    </tr>\n",
       "    <tr>\n",
       "      <th>3</th>\n",
       "      <td>4</td>\n",
       "      <td>Amazon</td>\n",
       "      <td>AMZN</td>\n",
       "      <td>1664530513920</td>\n",
       "      <td>3271.20</td>\n",
       "      <td>United States</td>\n",
       "    </tr>\n",
       "    <tr>\n",
       "      <th>4</th>\n",
       "      <td>5</td>\n",
       "      <td>Tesla</td>\n",
       "      <td>TSLA</td>\n",
       "      <td>1137984405504</td>\n",
       "      <td>1084.59</td>\n",
       "      <td>United States</td>\n",
       "    </tr>\n",
       "    <tr>\n",
       "      <th>...</th>\n",
       "      <td>...</td>\n",
       "      <td>...</td>\n",
       "      <td>...</td>\n",
       "      <td>...</td>\n",
       "      <td>...</td>\n",
       "      <td>...</td>\n",
       "    </tr>\n",
       "    <tr>\n",
       "      <th>95</th>\n",
       "      <td>96</td>\n",
       "      <td>CME Group</td>\n",
       "      <td>CME</td>\n",
       "      <td>86196830208</td>\n",
       "      <td>239.82</td>\n",
       "      <td>United States</td>\n",
       "    </tr>\n",
       "    <tr>\n",
       "      <th>96</th>\n",
       "      <td>97</td>\n",
       "      <td>3M</td>\n",
       "      <td>MMM</td>\n",
       "      <td>85199355904</td>\n",
       "      <td>149.69</td>\n",
       "      <td>United States</td>\n",
       "    </tr>\n",
       "    <tr>\n",
       "      <th>97</th>\n",
       "      <td>98</td>\n",
       "      <td>Micron Technology</td>\n",
       "      <td>MU</td>\n",
       "      <td>85067915264</td>\n",
       "      <td>76.18</td>\n",
       "      <td>United States</td>\n",
       "    </tr>\n",
       "    <tr>\n",
       "      <th>98</th>\n",
       "      <td>99</td>\n",
       "      <td>Crown Castle</td>\n",
       "      <td>CCI</td>\n",
       "      <td>81705918464</td>\n",
       "      <td>189.04</td>\n",
       "      <td>United States</td>\n",
       "    </tr>\n",
       "    <tr>\n",
       "      <th>99</th>\n",
       "      <td>100</td>\n",
       "      <td>Block</td>\n",
       "      <td>SQ</td>\n",
       "      <td>80079536128</td>\n",
       "      <td>133.62</td>\n",
       "      <td>United States</td>\n",
       "    </tr>\n",
       "  </tbody>\n",
       "</table>\n",
       "<p>100 rows × 6 columns</p>\n",
       "</div>"
      ],
      "text/plain": [
       "    Rank               Name Symbol      marketcap  price (USD)        country\n",
       "0      1              Apple   AAPL  2896125755392       174.31  United States\n",
       "1      2          Microsoft   MSFT  2361437716480       309.42  United States\n",
       "2      3  Alphabet (Google)   GOOG  1894950502400      2814.00  United States\n",
       "3      4             Amazon   AMZN  1664530513920      3271.20  United States\n",
       "4      5              Tesla   TSLA  1137984405504      1084.59  United States\n",
       "..   ...                ...    ...            ...          ...            ...\n",
       "95    96          CME Group    CME    86196830208       239.82  United States\n",
       "96    97                 3M    MMM    85199355904       149.69  United States\n",
       "97    98  Micron Technology     MU    85067915264        76.18  United States\n",
       "98    99       Crown Castle    CCI    81705918464       189.04  United States\n",
       "99   100              Block     SQ    80079536128       133.62  United States\n",
       "\n",
       "[100 rows x 6 columns]"
      ]
     },
     "execution_count": 4,
     "metadata": {},
     "output_type": "execute_result"
    }
   ],
   "source": [
    "payload = pd.read_csv('companiesmarketcap.com - Largest American companies by market capitalization.csv')\n",
    "payload"
   ]
  },
  {
   "cell_type": "code",
   "execution_count": 5,
   "id": "engaging-pizza",
   "metadata": {},
   "outputs": [],
   "source": [
    "import tweepy as tw\n",
    "import requests\n",
    "\n",
    "access_token = \"WT90c6EeFymch8alktIS6Czjo\"\n",
    "access_token_secret = \"rapSxOMSspBkqyUSkQ7QsCqoBSl00eJn0lqM44MypligPrSLI3 \"\n",
    "bearer_token = \"AAAAAAAAAAAAAAAAAAAAAPQdbAEAAAAAip4dX3hfODMZcwy%2F4D9NGsqQlQY%3DhlWENfRydVk69RbpqLE4vNXku5nzgoVeSfYMekfHfDm6pM0LtN \"\n",
    "\n",
    "client = tw.Client(bearer_token=bearer_token,\n",
    "                        access_token=access_token, \n",
    "                        access_token_secret=access_token_secret, \n",
    "                        return_type = requests.Response,\n",
    "                        wait_on_rate_limit=True)"
   ]
  },
  {
   "cell_type": "code",
   "execution_count": 6,
   "id": "running-california",
   "metadata": {
    "scrolled": false
   },
   "outputs": [],
   "source": [
    "query = \"#AAPL -is:retweet -is:reply lang:en\"\n",
    "# -is:retweets\n",
    "\n",
    "tweets = client.search_recent_tweets(query=query, max_results=100, start_time=\"2022-04-01T00:00:00Z\")"
   ]
  },
  {
   "cell_type": "code",
   "execution_count": 7,
   "id": "authorized-arcade",
   "metadata": {},
   "outputs": [
    {
     "data": {
      "text/html": [
       "<div>\n",
       "<style scoped>\n",
       "    .dataframe tbody tr th:only-of-type {\n",
       "        vertical-align: middle;\n",
       "    }\n",
       "\n",
       "    .dataframe tbody tr th {\n",
       "        vertical-align: top;\n",
       "    }\n",
       "\n",
       "    .dataframe thead th {\n",
       "        text-align: right;\n",
       "    }\n",
       "</style>\n",
       "<table border=\"1\" class=\"dataframe\">\n",
       "  <thead>\n",
       "    <tr style=\"text-align: right;\">\n",
       "      <th></th>\n",
       "      <th>id</th>\n",
       "      <th>text</th>\n",
       "    </tr>\n",
       "  </thead>\n",
       "  <tbody>\n",
       "    <tr>\n",
       "      <th>0</th>\n",
       "      <td>1510319696922517507</td>\n",
       "      <td>AAPL hasn’t moved at all today #aapl #stocks</td>\n",
       "    </tr>\n",
       "    <tr>\n",
       "      <th>1</th>\n",
       "      <td>1510303556305309701</td>\n",
       "      <td>AAPL,Apple,Nasdaq\\nPeriod:1D,Daily\\n177,69 is ...</td>\n",
       "    </tr>\n",
       "    <tr>\n",
       "      <th>2</th>\n",
       "      <td>1510296946321379331</td>\n",
       "      <td>Tomorrow Sunday @ 8: 30PM EST #Youtube live!!!...</td>\n",
       "    </tr>\n",
       "    <tr>\n",
       "      <th>3</th>\n",
       "      <td>1510247504734007302</td>\n",
       "      <td>$AAPL one of the most mentioned on wallstreetb...</td>\n",
       "    </tr>\n",
       "    <tr>\n",
       "      <th>4</th>\n",
       "      <td>1510236738958020608</td>\n",
       "      <td>SHEESH This week's gains from analysts is NUTS...</td>\n",
       "    </tr>\n",
       "    <tr>\n",
       "      <th>...</th>\n",
       "      <td>...</td>\n",
       "      <td>...</td>\n",
       "    </tr>\n",
       "    <tr>\n",
       "      <th>68</th>\n",
       "      <td>1509713820847026205</td>\n",
       "      <td>BBG: #AAPL, #FB, and #AMZN could soon be added...</td>\n",
       "    </tr>\n",
       "    <tr>\n",
       "      <th>69</th>\n",
       "      <td>1509695576585158661</td>\n",
       "      <td>He means #TimCook #AAPL $AAPL $RVN $BTC $ETH $...</td>\n",
       "    </tr>\n",
       "    <tr>\n",
       "      <th>70</th>\n",
       "      <td>1509695184749137923</td>\n",
       "      <td>Huge news! #stocks #StocksInFocus #StocksToTra...</td>\n",
       "    </tr>\n",
       "    <tr>\n",
       "      <th>71</th>\n",
       "      <td>1509690739315281930</td>\n",
       "      <td>first time using twitter #AMC #GME #BBIG #MULN...</td>\n",
       "    </tr>\n",
       "    <tr>\n",
       "      <th>72</th>\n",
       "      <td>1509687492676571136</td>\n",
       "      <td>$AAPL #AAPL \\n\\nApple has won support from the...</td>\n",
       "    </tr>\n",
       "  </tbody>\n",
       "</table>\n",
       "<p>73 rows × 2 columns</p>\n",
       "</div>"
      ],
      "text/plain": [
       "                     id                                               text\n",
       "0   1510319696922517507       AAPL hasn’t moved at all today #aapl #stocks\n",
       "1   1510303556305309701  AAPL,Apple,Nasdaq\\nPeriod:1D,Daily\\n177,69 is ...\n",
       "2   1510296946321379331  Tomorrow Sunday @ 8: 30PM EST #Youtube live!!!...\n",
       "3   1510247504734007302  $AAPL one of the most mentioned on wallstreetb...\n",
       "4   1510236738958020608  SHEESH This week's gains from analysts is NUTS...\n",
       "..                  ...                                                ...\n",
       "68  1509713820847026205  BBG: #AAPL, #FB, and #AMZN could soon be added...\n",
       "69  1509695576585158661  He means #TimCook #AAPL $AAPL $RVN $BTC $ETH $...\n",
       "70  1509695184749137923  Huge news! #stocks #StocksInFocus #StocksToTra...\n",
       "71  1509690739315281930  first time using twitter #AMC #GME #BBIG #MULN...\n",
       "72  1509687492676571136  $AAPL #AAPL \\n\\nApple has won support from the...\n",
       "\n",
       "[73 rows x 2 columns]"
      ]
     },
     "execution_count": 7,
     "metadata": {},
     "output_type": "execute_result"
    }
   ],
   "source": [
    "# Save data as dictionary\n",
    "tweets_dict = tweets.json() \n",
    "\n",
    "# Extract \"data\" value from dictionary\n",
    "tweets_data = tweets_dict['data'] \n",
    "\n",
    "# Transform to pandas Dataframe\n",
    "df = pd.json_normalize(tweets_data)\n",
    "df"
   ]
  },
  {
   "cell_type": "code",
   "execution_count": 8,
   "id": "instructional-captain",
   "metadata": {},
   "outputs": [
    {
     "data": {
      "text/plain": [
       "'AAPL hasn’t moved at all today #aapl #stocks'"
      ]
     },
     "execution_count": 8,
     "metadata": {},
     "output_type": "execute_result"
    }
   ],
   "source": [
    "df[\"text\"][0]"
   ]
  },
  {
   "cell_type": "code",
   "execution_count": 9,
   "id": "through-width",
   "metadata": {},
   "outputs": [],
   "source": [
    "def clean_text(text):\n",
    "    text = text.str.lower() # lowercase\n",
    "    #text = text.str.replace(r\"\\#\",\"\") # replaces hashtags\n",
    "    text = text.str.replace(r\"http\\S+\",\"URL\")  # remove URL addresses\n",
    "    text = text.str.replace(r\"@\",\"\")\n",
    "    text = text.str.replace(r\"\\n\",\" \")\n",
    "    #text = text.str.replace(r\"[^A-Za-z0-9()!?\\'\\`\\\"]\", \" \")\n",
    "    text = text.str.replace(\":\", \"\")\n",
    "    text = text.str.replace(\"\\s{2,}\", \" \")\n",
    "    return text"
   ]
  },
  {
   "cell_type": "code",
   "execution_count": 10,
   "id": "russian-storm",
   "metadata": {},
   "outputs": [
    {
     "name": "stderr",
     "output_type": "stream",
     "text": [
      "<ipython-input-9-674e6284c65f>:4: FutureWarning: The default value of regex will change from True to False in a future version.\n",
      "  text = text.str.replace(r\"http\\S+\",\"URL\")  # remove URL addresses\n",
      "<ipython-input-9-674e6284c65f>:6: FutureWarning: The default value of regex will change from True to False in a future version.\n",
      "  text = text.str.replace(r\"\\n\",\" \")\n",
      "<ipython-input-9-674e6284c65f>:9: FutureWarning: The default value of regex will change from True to False in a future version.\n",
      "  text = text.str.replace(\"\\s{2,}\", \" \")\n"
     ]
    },
    {
     "data": {
      "text/plain": [
       "'aapl hasn’t moved at all today #aapl #stocks'"
      ]
     },
     "execution_count": 10,
     "metadata": {},
     "output_type": "execute_result"
    }
   ],
   "source": [
    "clean_text(df[\"text\"])[0]"
   ]
  },
  {
   "cell_type": "code",
   "execution_count": 11,
   "id": "hispanic-reward",
   "metadata": {},
   "outputs": [
    {
     "name": "stderr",
     "output_type": "stream",
     "text": [
      "[nltk_data] Downloading package stopwords to\n",
      "[nltk_data]     /Users/andreaspalmgren/nltk_data...\n",
      "[nltk_data]   Package stopwords is already up-to-date!\n"
     ]
    },
    {
     "data": {
      "text/plain": [
       "True"
      ]
     },
     "execution_count": 11,
     "metadata": {},
     "output_type": "execute_result"
    }
   ],
   "source": [
    "import nltk\n",
    "from nltk.tokenize import word_tokenize\n",
    "from nltk.corpus import stopwords\n",
    "from nltk.stem import PorterStemmer\n",
    "import matplotlib.pyplot as plt\n",
    "from math import log, sqrt\n",
    "import pandas as pd\n",
    "import numpy as np\n",
    "import re\n",
    "\n",
    "nltk.download('stopwords')"
   ]
  },
  {
   "cell_type": "code",
   "execution_count": 12,
   "id": "moderate-huntington",
   "metadata": {},
   "outputs": [
    {
     "name": "stderr",
     "output_type": "stream",
     "text": [
      "<ipython-input-9-674e6284c65f>:4: FutureWarning: The default value of regex will change from True to False in a future version.\n",
      "  text = text.str.replace(r\"http\\S+\",\"URL\")  # remove URL addresses\n",
      "<ipython-input-9-674e6284c65f>:6: FutureWarning: The default value of regex will change from True to False in a future version.\n",
      "  text = text.str.replace(r\"\\n\",\" \")\n",
      "<ipython-input-9-674e6284c65f>:9: FutureWarning: The default value of regex will change from True to False in a future version.\n",
      "  text = text.str.replace(\"\\s{2,}\", \" \")\n"
     ]
    },
    {
     "data": {
      "text/plain": [
       "['aapl', 'aapl', 'chart', 'tradingview', 'url']"
      ]
     },
     "execution_count": 12,
     "metadata": {},
     "output_type": "execute_result"
    }
   ],
   "source": [
    "words = word_tokenize(clean_text(df[\"text\"])[59])\n",
    "words = [w for w in words if len(w) > 2]\n",
    "\n",
    "sw = stopwords.words('english')\n",
    "words = [word for word in words if word not in sw]\n",
    "\n",
    "stemmer = PorterStemmer()\n",
    "words = [stemmer.stem(word) for word in words]\n",
    "\n",
    "words"
   ]
  },
  {
   "cell_type": "code",
   "execution_count": 13,
   "id": "distant-hollywood",
   "metadata": {},
   "outputs": [],
   "source": [
    "import os\n",
    "import shutil\n",
    "\n",
    "import tensorflow as tf\n",
    "import tensorflow_hub as hub\n",
    "import tensorflow_text as text\n",
    "\n",
    "from official.nlp import optimization"
   ]
  },
  {
   "cell_type": "code",
   "execution_count": 29,
   "id": "unusual-compilation",
   "metadata": {},
   "outputs": [],
   "source": [
    "bert_preprocess = hub.KerasLayer(\"https://tfhub.dev/tensorflow/bert_en_uncased_preprocess/3\")\n",
    "bert_encoder = hub.KerasLayer(\"https://tfhub.dev/tensorflow/bert_en_uncased_L-12_H-768_A-12/4\")"
   ]
  },
  {
   "cell_type": "code",
   "execution_count": 33,
   "id": "animal-violin",
   "metadata": {},
   "outputs": [
    {
     "data": {
      "text/plain": [
       "<tf.Tensor: shape=(5, 768), dtype=float32, numpy=\n",
       "array([[-0.8625343 , -0.16709733,  0.26343432, ...,  0.21032488,\n",
       "        -0.5796226 ,  0.82706755],\n",
       "       [-0.8625343 , -0.16709733,  0.26343432, ...,  0.21032488,\n",
       "        -0.5796226 ,  0.82706755],\n",
       "       [-0.837774  , -0.07798962,  0.43875256, ...,  0.3040768 ,\n",
       "        -0.49907103,  0.8374878 ],\n",
       "       [-0.7846132 , -0.2180038 ,  0.38767603, ...,  0.39983296,\n",
       "        -0.54361093,  0.82489705],\n",
       "       [-0.8504085 , -0.37325853, -0.4750819 , ..., -0.2725301 ,\n",
       "        -0.69858265,  0.87868434]], dtype=float32)>"
      ]
     },
     "execution_count": 33,
     "metadata": {},
     "output_type": "execute_result"
    }
   ],
   "source": [
    "def get_sentence_embeding(sentences):\n",
    "    preprocessed_text = bert_preprocess(sentences)\n",
    "    return bert_encoder(preprocessed_text)['pooled_output']\n",
    "\n",
    "get_sentence_embeding(words)"
   ]
  },
  {
   "cell_type": "code",
   "execution_count": 34,
   "id": "impressed-medium",
   "metadata": {},
   "outputs": [],
   "source": [
    "# Bert layers\n",
    "text_input = tf.keras.layers.Input(shape=(), dtype=tf.string, name='text')\n",
    "preprocessed_text = bert_preprocess(text_input)\n",
    "outputs = bert_encoder(preprocessed_text)\n",
    "\n",
    "# Neural network layers\n",
    "l = tf.keras.layers.Dropout(0.1, name=\"dropout\")(outputs['pooled_output'])\n",
    "l = tf.keras.layers.Dense(1, activation='sigmoid', name=\"output\")(l)\n",
    "\n",
    "# Use inputs and outputs to construct a final model\n",
    "model = tf.keras.Model(inputs=[text_input], outputs = [l])"
   ]
  },
  {
   "cell_type": "code",
   "execution_count": 35,
   "id": "reasonable-diana",
   "metadata": {},
   "outputs": [
    {
     "name": "stdout",
     "output_type": "stream",
     "text": [
      "Model: \"model\"\n",
      "__________________________________________________________________________________________________\n",
      " Layer (type)                   Output Shape         Param #     Connected to                     \n",
      "==================================================================================================\n",
      " text (InputLayer)              [(None,)]            0           []                               \n",
      "                                                                                                  \n",
      " keras_layer_3 (KerasLayer)     {'input_type_ids':   0           ['text[0][0]']                   \n",
      "                                (None, 128),                                                      \n",
      "                                 'input_mask': (Non                                               \n",
      "                                e, 128),                                                          \n",
      "                                 'input_word_ids':                                                \n",
      "                                (None, 128)}                                                      \n",
      "                                                                                                  \n",
      " keras_layer_4 (KerasLayer)     {'default': (None,   109482241   ['keras_layer_3[0][0]',          \n",
      "                                768),                             'keras_layer_3[0][1]',          \n",
      "                                 'pooled_output': (               'keras_layer_3[0][2]']          \n",
      "                                None, 768),                                                       \n",
      "                                 'encoder_outputs':                                               \n",
      "                                 [(None, 128, 768),                                               \n",
      "                                 (None, 128, 768),                                                \n",
      "                                 (None, 128, 768),                                                \n",
      "                                 (None, 128, 768),                                                \n",
      "                                 (None, 128, 768),                                                \n",
      "                                 (None, 128, 768),                                                \n",
      "                                 (None, 128, 768),                                                \n",
      "                                 (None, 128, 768),                                                \n",
      "                                 (None, 128, 768),                                                \n",
      "                                 (None, 128, 768),                                                \n",
      "                                 (None, 128, 768),                                                \n",
      "                                 (None, 128, 768)],                                               \n",
      "                                 'sequence_output':                                               \n",
      "                                 (None, 128, 768)}                                                \n",
      "                                                                                                  \n",
      " dropout (Dropout)              (None, 768)          0           ['keras_layer_4[0][13]']         \n",
      "                                                                                                  \n",
      " output (Dense)                 (None, 1)            769         ['dropout[0][0]']                \n",
      "                                                                                                  \n",
      "==================================================================================================\n",
      "Total params: 109,483,010\n",
      "Trainable params: 769\n",
      "Non-trainable params: 109,482,241\n",
      "__________________________________________________________________________________________________\n"
     ]
    }
   ],
   "source": [
    "model.summary()"
   ]
  },
  {
   "cell_type": "code",
   "execution_count": 36,
   "id": "treated-mistress",
   "metadata": {},
   "outputs": [],
   "source": [
    "METRICS = [\n",
    "      tf.keras.metrics.BinaryAccuracy(name='accuracy'),\n",
    "      tf.keras.metrics.Precision(name='precision'),\n",
    "      tf.keras.metrics.Recall(name='recall')\n",
    "]\n",
    "\n",
    "model.compile(optimizer='adam',\n",
    "              loss='binary_crossentropy',\n",
    "              metrics=METRICS)"
   ]
  },
  {
   "cell_type": "code",
   "execution_count": 37,
   "id": "genetic-france",
   "metadata": {},
   "outputs": [
    {
     "ename": "NameError",
     "evalue": "name 'X_train' is not defined",
     "output_type": "error",
     "traceback": [
      "\u001b[0;31m---------------------------------------------------------------------------\u001b[0m",
      "\u001b[0;31mNameError\u001b[0m                                 Traceback (most recent call last)",
      "\u001b[0;32m<ipython-input-37-1e51fab1ab6e>\u001b[0m in \u001b[0;36m<module>\u001b[0;34m\u001b[0m\n\u001b[0;32m----> 1\u001b[0;31m \u001b[0mmodel\u001b[0m\u001b[0;34m.\u001b[0m\u001b[0mfit\u001b[0m\u001b[0;34m(\u001b[0m\u001b[0mX_train\u001b[0m\u001b[0;34m,\u001b[0m \u001b[0my_train\u001b[0m\u001b[0;34m,\u001b[0m \u001b[0mepochs\u001b[0m\u001b[0;34m=\u001b[0m\u001b[0;36m10\u001b[0m\u001b[0;34m)\u001b[0m\u001b[0;34m\u001b[0m\u001b[0;34m\u001b[0m\u001b[0m\n\u001b[0m",
      "\u001b[0;31mNameError\u001b[0m: name 'X_train' is not defined"
     ]
    }
   ],
   "source": [
    "model.fit(X_train, y_train, epochs=10)"
   ]
  },
  {
   "cell_type": "code",
   "execution_count": null,
   "id": "useful-venture",
   "metadata": {},
   "outputs": [],
   "source": [
    "import yfinance as yf  \n",
    "import matplotlib.pyplot as plt"
   ]
  },
  {
   "cell_type": "code",
   "execution_count": null,
   "id": "severe-reality",
   "metadata": {},
   "outputs": [],
   "source": [
    "data = yf.download(['AAPL'],'2021-01-01','2022-03-30')\n",
    "data"
   ]
  },
  {
   "cell_type": "markdown",
   "id": "decimal-adaptation",
   "metadata": {},
   "source": [
    "https://www.diva-portal.org/smash/get/diva2:1113099/FULLTEXT01.pdf"
   ]
  }
 ],
 "metadata": {
  "kernelspec": {
   "display_name": "Python 3",
   "language": "python",
   "name": "python3"
  },
  "language_info": {
   "codemirror_mode": {
    "name": "ipython",
    "version": 3
   },
   "file_extension": ".py",
   "mimetype": "text/x-python",
   "name": "python",
   "nbconvert_exporter": "python",
   "pygments_lexer": "ipython3",
   "version": "3.8.5"
  }
 },
 "nbformat": 4,
 "nbformat_minor": 5
}
